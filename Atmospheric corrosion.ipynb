{
 "cells": [
  {
   "cell_type": "code",
   "execution_count": 34,
   "id": "dc4c4dfc",
   "metadata": {},
   "outputs": [],
   "source": [
    "def warn(*args, **kwargs):\n",
    "    pass\n",
    "import warnings\n",
    "warnings.warn = warn"
   ]
  },
  {
   "cell_type": "code",
   "execution_count": 22,
   "id": "caeaa814",
   "metadata": {},
   "outputs": [],
   "source": [
    "import pandas as pd\n",
    "import numpy as np\n",
    "import matplotlib.pyplot as plt\n",
    "from sklearn.preprocessing import LabelEncoder\n",
    "from sklearn.impute import SimpleImputer\n",
    "\n",
    "from sklearn.model_selection import train_test_split\n",
    "from sklearn.ensemble import RandomForestRegressor\n",
    "from sklearn.svm import SVR\n",
    "from sklearn.linear_model import LinearRegression\n",
    "from sklearn.metrics import r2_score\n",
    "from sklearn.preprocessing import StandardScaler\n",
    "from sklearn.model_selection import cross_val_score"
   ]
  },
  {
   "cell_type": "code",
   "execution_count": 23,
   "id": "c6edfd0d",
   "metadata": {},
   "outputs": [
    {
     "data": {
      "text/html": [
       "<div>\n",
       "<style scoped>\n",
       "    .dataframe tbody tr th:only-of-type {\n",
       "        vertical-align: middle;\n",
       "    }\n",
       "\n",
       "    .dataframe tbody tr th {\n",
       "        vertical-align: top;\n",
       "    }\n",
       "\n",
       "    .dataframe thead th {\n",
       "        text-align: right;\n",
       "    }\n",
       "</style>\n",
       "<table border=\"1\" class=\"dataframe\">\n",
       "  <thead>\n",
       "    <tr style=\"text-align: right;\">\n",
       "      <th></th>\n",
       "      <th>Materials</th>\n",
       "      <th>Place</th>\n",
       "      <th>Condition</th>\n",
       "      <th>C</th>\n",
       "      <th>Si</th>\n",
       "      <th>Mn</th>\n",
       "      <th>P</th>\n",
       "      <th>S</th>\n",
       "      <th>Cu</th>\n",
       "      <th>Cr</th>\n",
       "      <th>...</th>\n",
       "      <th>Air Temperature</th>\n",
       "      <th>Relative humidity</th>\n",
       "      <th>Cl deposition rate</th>\n",
       "      <th>SO2 deposition rate</th>\n",
       "      <th>Precipitation</th>\n",
       "      <th>Velocity of Wind</th>\n",
       "      <th>TOW</th>\n",
       "      <th>Solar</th>\n",
       "      <th>Years</th>\n",
       "      <th>Corrosion</th>\n",
       "    </tr>\n",
       "  </thead>\n",
       "  <tbody>\n",
       "    <tr>\n",
       "      <th>1</th>\n",
       "      <td>Fe¹</td>\n",
       "      <td>Tsukuba</td>\n",
       "      <td>open</td>\n",
       "      <td>0.001</td>\n",
       "      <td>&lt;0.003</td>\n",
       "      <td>&lt;0.01</td>\n",
       "      <td>0.0008</td>\n",
       "      <td>0.0011</td>\n",
       "      <td>&lt;0.01</td>\n",
       "      <td>&lt;0.01</td>\n",
       "      <td>...</td>\n",
       "      <td>14.6</td>\n",
       "      <td>NaN</td>\n",
       "      <td>3.4</td>\n",
       "      <td>4.8</td>\n",
       "      <td>1167.0</td>\n",
       "      <td>2.5</td>\n",
       "      <td>NaN</td>\n",
       "      <td>NaN</td>\n",
       "      <td>1.0</td>\n",
       "      <td>355.35</td>\n",
       "    </tr>\n",
       "    <tr>\n",
       "      <th>2</th>\n",
       "      <td>Fe¹</td>\n",
       "      <td>Tsukuba</td>\n",
       "      <td>open</td>\n",
       "      <td>0.001</td>\n",
       "      <td>&lt;0.003</td>\n",
       "      <td>&lt;0.01</td>\n",
       "      <td>0.0008</td>\n",
       "      <td>0.0011</td>\n",
       "      <td>&lt;0.01</td>\n",
       "      <td>&lt;0.01</td>\n",
       "      <td>...</td>\n",
       "      <td>16.3</td>\n",
       "      <td>75.0</td>\n",
       "      <td>3.1</td>\n",
       "      <td>5.8</td>\n",
       "      <td>726.5</td>\n",
       "      <td>2.0</td>\n",
       "      <td>4196.2</td>\n",
       "      <td>5561.04</td>\n",
       "      <td>2.0</td>\n",
       "      <td>529.65</td>\n",
       "    </tr>\n",
       "    <tr>\n",
       "      <th>3</th>\n",
       "      <td>Fe¹</td>\n",
       "      <td>Tsukuba</td>\n",
       "      <td>open</td>\n",
       "      <td>0.001</td>\n",
       "      <td>&lt;0.003</td>\n",
       "      <td>&lt;0.01</td>\n",
       "      <td>0.0008</td>\n",
       "      <td>0.0011</td>\n",
       "      <td>&lt;0.01</td>\n",
       "      <td>&lt;0.01</td>\n",
       "      <td>...</td>\n",
       "      <td>15.8</td>\n",
       "      <td>80.0</td>\n",
       "      <td>3.4</td>\n",
       "      <td>5.4</td>\n",
       "      <td>997.0</td>\n",
       "      <td>1.5</td>\n",
       "      <td>5143.8</td>\n",
       "      <td>5920.18</td>\n",
       "      <td>3.0</td>\n",
       "      <td>706.65</td>\n",
       "    </tr>\n",
       "  </tbody>\n",
       "</table>\n",
       "<p>3 rows × 24 columns</p>\n",
       "</div>"
      ],
      "text/plain": [
       "  Materials    Place Condition      C      Si     Mn       P       S     Cu  \\\n",
       "1       Fe¹  Tsukuba      open  0.001  <0.003  <0.01  0.0008  0.0011  <0.01   \n",
       "2       Fe¹  Tsukuba      open  0.001  <0.003  <0.01  0.0008  0.0011  <0.01   \n",
       "3       Fe¹  Tsukuba      open  0.001  <0.003  <0.01  0.0008  0.0011  <0.01   \n",
       "\n",
       "      Cr  ... Air Temperature Relative humidity Cl deposition rate  \\\n",
       "1  <0.01  ...            14.6               NaN                3.4   \n",
       "2  <0.01  ...            16.3              75.0                3.1   \n",
       "3  <0.01  ...            15.8              80.0                3.4   \n",
       "\n",
       "  SO2 deposition rate  Precipitation  Velocity of Wind     TOW    Solar  \\\n",
       "1                 4.8         1167.0               2.5     NaN      NaN   \n",
       "2                 5.8          726.5               2.0  4196.2  5561.04   \n",
       "3                 5.4          997.0               1.5  5143.8  5920.18   \n",
       "\n",
       "   Years  Corrosion  \n",
       "1    1.0     355.35  \n",
       "2    2.0     529.65  \n",
       "3    3.0     706.65  \n",
       "\n",
       "[3 rows x 24 columns]"
      ]
     },
     "execution_count": 23,
     "metadata": {},
     "output_type": "execute_result"
    }
   ],
   "source": [
    "df = pd.read_csv(r'dataset.csv')\n",
    "df.drop([0],axis=0,inplace=True)\n",
    "df.head(3)"
   ]
  },
  {
   "cell_type": "code",
   "execution_count": 24,
   "id": "fbf36070",
   "metadata": {},
   "outputs": [
    {
     "data": {
      "text/plain": [
       "Index(['Materials', 'Place', 'Condition', 'C', 'Si', 'Mn', 'P', 'S', 'Cu',\n",
       "       'Cr', 'Ni', 'Al', 'Ti', 'V', 'Air Temperature', 'Relative humidity',\n",
       "       'Cl deposition rate', 'SO2 deposition rate', 'Precipitation',\n",
       "       'Velocity of Wind', 'TOW', 'Solar', 'Years', 'Corrosion'],\n",
       "      dtype='object')"
      ]
     },
     "execution_count": 24,
     "metadata": {},
     "output_type": "execute_result"
    }
   ],
   "source": [
    "df.columns"
   ]
  },
  {
   "cell_type": "markdown",
   "id": "2c8db6c0",
   "metadata": {},
   "source": [
    "#  Preprocessing"
   ]
  },
  {
   "cell_type": "markdown",
   "id": "252c9586",
   "metadata": {},
   "source": [
    "### String to numeric"
   ]
  },
  {
   "cell_type": "code",
   "execution_count": 25,
   "id": "efc8a525",
   "metadata": {},
   "outputs": [],
   "source": [
    "df['Si'] = df['Si'].replace(\"<0.003\",0.003)\n",
    "df['Mn'] = df['Mn'].replace(\"<0.01\",0.01)\n",
    "df['Cu'] = df['Cu'].replace(\"<0.01\",0.01)\n",
    "df['Cr'] = df['Cr'].replace(\"<0.01\",0.01)\n",
    "df['Ni'] = df['Ni'].replace(\"<0.01\",0.01)\n",
    "df['Al'] = df['Al'].replace(\"<0.01\",0.01)\n",
    "df['Ti'] = df['Ti'].replace(\"<0.01\",0.01)\n",
    "df['V'] = df['V'].replace(\"<0.01\",0.01)"
   ]
  },
  {
   "cell_type": "code",
   "execution_count": 26,
   "id": "b89112b0",
   "metadata": {},
   "outputs": [],
   "source": [
    "for data in df[\"Corrosion\"]:\n",
    "    if type(data)==str and data[0]==\">\":\n",
    "        df[\"Corrosion\"]=df[\"Corrosion\"].replace(data,float(data[1:]))"
   ]
  },
  {
   "cell_type": "code",
   "execution_count": 27,
   "id": "8dc482e9",
   "metadata": {},
   "outputs": [],
   "source": [
    "for i in col:\n",
    "    df[i] = pd.to_numeric(df[i])"
   ]
  },
  {
   "cell_type": "markdown",
   "id": "2f35bec5",
   "metadata": {},
   "source": [
    "### Splitting as train and test"
   ]
  },
  {
   "cell_type": "code",
   "execution_count": 28,
   "id": "64b18143",
   "metadata": {},
   "outputs": [],
   "source": [
    "X = df.iloc[:,df.columns!='Corrosion'].values\n",
    "y = pd.DataFrame(df.iloc[:,-1].values)"
   ]
  },
  {
   "cell_type": "markdown",
   "id": "b1b7ffe2",
   "metadata": {},
   "source": [
    "### Encoding"
   ]
  },
  {
   "cell_type": "code",
   "execution_count": 29,
   "id": "9b3b66c9",
   "metadata": {},
   "outputs": [],
   "source": [
    "le=LabelEncoder()\n",
    "X[:,0]=le.fit_transform(X[:,0])\n",
    "X[:,1]=le.fit_transform(X[:,1])\n",
    "X[:,2]=le.fit_transform(X[:,2])"
   ]
  },
  {
   "cell_type": "markdown",
   "id": "9a8881d0",
   "metadata": {},
   "source": [
    "### Handling Missing values"
   ]
  },
  {
   "cell_type": "code",
   "execution_count": 30,
   "id": "6c0329cf",
   "metadata": {},
   "outputs": [],
   "source": [
    "imputer = SimpleImputer(missing_values=np.nan, strategy='most_frequent')\n",
    "imputer = imputer.fit(X)\n",
    "X = imputer.transform(X)"
   ]
  },
  {
   "cell_type": "markdown",
   "id": "5b87fc3b",
   "metadata": {},
   "source": [
    "### Scaler"
   ]
  },
  {
   "cell_type": "code",
   "execution_count": 21,
   "id": "a9a53d42",
   "metadata": {},
   "outputs": [],
   "source": [
    "scaler = StandardScaler()\n",
    "y.fillna(value=y.mean(), inplace=True)\n",
    "y=y.values.ravel()\n",
    "y_scaled=scaler.fit_transform(y.reshape(-1,1))\n",
    "y_scaled=y_scaled.ravel()"
   ]
  },
  {
   "cell_type": "markdown",
   "id": "ba130b24",
   "metadata": {},
   "source": [
    "## Fitting models"
   ]
  },
  {
   "cell_type": "code",
   "execution_count": 37,
   "id": "0c4eafbd",
   "metadata": {},
   "outputs": [],
   "source": [
    "regressor = [[\"RFR\",RandomForestRegressor(n_estimators=100,random_state=0)],[\"SVR\",SVR(kernel='rbf',gamma='auto',cache_size=500)],[\"MLR\",LinearRegression(n_jobs=100,normalize=False)],[\"Hybrid Model\"]]\n",
    "ans = []\n",
    "predictions={\"RFR\":[],\"MLR\":[],\"SVR\":[]}\n",
    "for i in range(len(regressor)-1):\n",
    "    temp=[]\n",
    "    for j in range(50,100,10):\n",
    "        X_train,X_test,y_train,y_test = train_test_split(X,y_scaled,test_size=(100-j)/100,random_state=0)\n",
    "        \n",
    "        regressor[i][1].fit(X_train,y_train)\n",
    "        y_pred = regressor[i][1].predict(X_test)\n",
    "        predictions[regressor[i][0]].append(y_pred)\n",
    "        acc = r2_score(y_test,y_pred)\n",
    "        \n",
    "        #acc = cross_val_score(regressor[i][1],X_train,y_train,cv=10)\n",
    "        temp.append(np.mean(acc))\n",
    "    ans.append(temp)"
   ]
  },
  {
   "cell_type": "markdown",
   "id": "ddea0198",
   "metadata": {},
   "source": [
    "### Hybrid Model"
   ]
  },
  {
   "cell_type": "code",
   "execution_count": 38,
   "id": "a20a1027",
   "metadata": {},
   "outputs": [],
   "source": [
    "temp=[] \n",
    "for j in range(50,100,10):\n",
    "    X_train,X_test,y_train,y_test = train_test_split(X,y_scaled,test_size=(100-j)/100,random_state=0)\n",
    "    y_pred= (0.92*predictions[\"RFR\"][j//10-5]+0.05*predictions[\"MLR\"][j//10-5]+0.36*predictions[\"SVR\"][j//10-5])\n",
    "    acc=r2_score(y_test,y_pred)\n",
    "    temp.append(np.mean(acc))  \n",
    "ans.append(temp)"
   ]
  },
  {
   "cell_type": "markdown",
   "id": "044b7394",
   "metadata": {},
   "source": [
    "## Sample plots"
   ]
  },
  {
   "cell_type": "code",
   "execution_count": 40,
   "id": "c1547807",
   "metadata": {},
   "outputs": [],
   "source": [
    "colour = ['blue','green','red','black']"
   ]
  },
  {
   "cell_type": "code",
   "execution_count": 41,
   "id": "5556448e",
   "metadata": {},
   "outputs": [
    {
     "data": {
      "image/png": "[encoded data removed]",
      "text/plain": [
       "<Figure size 432x288 with 1 Axes>"
      ]
     },
     "metadata": {
      "needs_background": "light"
     },
     "output_type": "display_data"
    }
   ],
   "source": [
    "importance=regressor[0][1].feature_importances_\n",
    "plt.bar([x for x in range(len(importance))], importance)\n",
    "plt.hlines(0.01,- 0, 24, color='red',linestyle='--')\n",
    "plt.show()"
   ]
  },
  {
   "cell_type": "code",
   "execution_count": 42,
   "id": "2130d3a4",
   "metadata": {},
   "outputs": [
    {
     "data": {
      "image/png": "[encoded data removed]",
      "text/plain": [
       "<Figure size 432x288 with 1 Axes>"
      ]
     },
     "metadata": {
      "needs_background": "light"
     },
     "output_type": "display_data"
    }
   ],
   "source": [
    "train = np.arange(50,100,10)\n",
    "for i in range(4):\n",
    "    plt.plot(train,ans[i],color=colour[i],label=regressor[i][0])\n",
    "\n",
    "plt.title(\"Pitting with cv\")\n",
    "plt.xlabel(\"Train %\")\n",
    "plt.ylabel(\"r2 score\")\n",
    "plt.legend()\n",
    "plt.show()"
   ]
  },
  {
   "cell_type": "code",
   "execution_count": null,
   "id": "95976e6b",
   "metadata": {},
   "outputs": [],
   "source": []
  }
 ],
 "metadata": {
  "kernelspec": {
   "display_name": "Python 3 (ipykernel)",
   "language": "python",
   "name": "python3"
  },
  "language_info": {
   "codemirror_mode": {
    "name": "ipython",
    "version": 3
   },
   "file_extension": ".py",
   "mimetype": "text/x-python",
   "name": "python",
   "nbconvert_exporter": "python",
   "pygments_lexer": "ipython3",
   "version": "3.8.8"
  }
 },
 "nbformat": 4,
 "nbformat_minor": 5
}
